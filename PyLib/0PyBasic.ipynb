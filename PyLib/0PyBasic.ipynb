{
 "cells": [
  {
   "cell_type": "markdown",
   "id": "6def4d5e-d914-48b8-98fe-9f16e3f90fcb",
   "metadata": {},
   "source": [
    "### ***Python & Jupyter & git***\n",
    "**'好的'变量名**:1)下划线分隔,例如 room_student_id = \"10211\"; 2)例如roomStudentID = \"10211\"<br>\n",
    "**有用的库**: Python, Jupyter, IPython, numpy, matplotlib, pandas, Scipy<br>\n",
    "**加速运算速度**: Cpython, numba, mpi4py, petsc4py, PyCUDA<br>\n",
    "**虚拟机**: VirtualBoox,VMware<br>\n",
    "**虚拟环境**: Anaconda,Virtualenv,Enthought<br>\n",
    "**容器**: Docker<br>\n",
    "\n",
    "#### ***References***\n",
    "[Geo-python](https://geo-python-site.readthedocs.io/en/latest/)<br>\n",
    "[Style Guide for Python Code](https://www.python.org/dev/peps/pep-0008/)<br>\n",
    "[The Zen of Python](https://www.python.org/dev/peps/pep-0020/)<br>\n",
    "[Jupyter Notebook 使用技巧](https://blog.csdn.net/deephub/article/details/108689139)<br>"
   ]
  },
  {
   "cell_type": "code",
   "execution_count": 1,
   "id": "07bd1d60-5808-489d-bac8-d72359f35001",
   "metadata": {},
   "outputs": [],
   "source": [
    "# How to use Pandas?\n",
    "%matplotlib inline\n",
    "import numpy as np\n",
    "import pandas as pd\n",
    "import matplotlib.pyplot as plt\n",
    "\n",
    "data = pd.read_csv(r'TestData/Kumpula-June-2016-w-metadata.txt', skiprows=8)\n",
    "selection = data[['YEARMODA','TEMP']]\n",
    "data['DIFF'] = data['MAX'] - data['MIN']"
   ]
  },
  {
   "cell_type": "markdown",
   "id": "06e041ec-77e5-4255-b302-0f00ead3a564",
   "metadata": {},
   "source": [
    "### **IPython的魔法符号－[Magics](https://supergis.gitbooks.io/git_notebook/content/doc/jupyter_magics.html)**\n",
    "常用的: !ls  %%!  %matplotlib inline   %timeit np.linalg.eigvals(np.random.rand(100,100))"
   ]
  },
  {
   "cell_type": "code",
   "execution_count": null,
   "id": "254c91a0-360e-425d-9a75-95c393bfb1db",
   "metadata": {},
   "outputs": [],
   "source": []
  }
 ],
 "metadata": {
  "kernelspec": {
   "display_name": "Python 3",
   "language": "python",
   "name": "python3"
  },
  "language_info": {
   "codemirror_mode": {
    "name": "ipython",
    "version": 3
   },
   "file_extension": ".py",
   "mimetype": "text/x-python",
   "name": "python",
   "nbconvert_exporter": "python",
   "pygments_lexer": "ipython3",
   "version": "3.8.8"
  }
 },
 "nbformat": 4,
 "nbformat_minor": 5
}
