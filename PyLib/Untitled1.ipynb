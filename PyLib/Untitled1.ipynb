{
 "cells": [
  {
   "cell_type": "markdown",
   "id": "da887e71-b2a4-4052-951c-e232e2497960",
   "metadata": {},
   "source": [
    "#### **Geodynamics**\n",
    "\n",
    "\n",
    "#### **References**\n",
    "**Great software**: I2VIS,I3VIS,Underword,Aspect, and so on. <br>\n",
    "**Book**<br>\n",
    "Introduction to Numerical Geodynamic Modelling<br>\n",
    "Pythonic Geodynamics<br>\n"
   ]
  },
  {
   "cell_type": "code",
   "execution_count": 1,
   "id": "8f8702c2-2bbc-4326-8139-16a97c2ed291",
   "metadata": {},
   "outputs": [
    {
     "data": {
      "text/plain": [
       "1.0"
      ]
     },
     "execution_count": 1,
     "metadata": {},
     "output_type": "execute_result"
    }
   ],
   "source": [
    "# Cell-Particles Projections\n",
    "import numpy as np\n",
    "import pandas as pd\n",
    "import matplotlib.pyplot as plt\n",
    "epsilon, ratio = np.float16(1), np.ones(10)\n",
    "epsilon"
   ]
  },
  {
   "cell_type": "code",
   "execution_count": 4,
   "id": "1c5ad383-aff4-488c-bea0-ec6539c112ca",
   "metadata": {},
   "outputs": [
    {
     "data": {
      "text/plain": [
       "[<matplotlib.lines.Line2D at 0x7f8204c10310>]"
      ]
     },
     "execution_count": 4,
     "metadata": {},
     "output_type": "execute_result"
    },
    {
     "data": {
      "image/png": "[encoded data removed]",
      "text/plain": [
       "<Figure size 432x288 with 1 Axes>"
      ]
     },
     "metadata": {
      "needs_background": "light"
     },
     "output_type": "display_data"
    }
   ],
   "source": [
    "plt.plot(ratio,ratio*2,'*')"
   ]
  },
  {
   "cell_type": "code",
   "execution_count": null,
   "id": "fd70b766-da1c-48fc-8f99-266995c43b4c",
   "metadata": {},
   "outputs": [],
   "source": []
  }
 ],
 "metadata": {
  "kernelspec": {
   "display_name": "Python 3",
   "language": "python",
   "name": "python3"
  },
  "language_info": {
   "codemirror_mode": {
    "name": "ipython",
    "version": 3
   },
   "file_extension": ".py",
   "mimetype": "text/x-python",
   "name": "python",
   "nbconvert_exporter": "python",
   "pygments_lexer": "ipython3",
   "version": "3.8.8"
  }
 },
 "nbformat": 4,
 "nbformat_minor": 5
}
