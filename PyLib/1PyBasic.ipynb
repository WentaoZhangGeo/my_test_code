{
 "cells": [
  {
   "cell_type": "markdown",
   "id": "9faced5a-f94f-46ae-9edd-7d6d62343549",
   "metadata": {},
   "source": [
    "### ***Python & git***\n",
    "**'好的'变量名**:1)下划线分隔,例如 room_student_id = \"10211\"; 2)例如roomStudentID = \"10211\"<br>\n",
    "**有用的库**: Python, Jupyter, IPython, numpy, matplotlib, pandas, Scipy<br>\n",
    "**加速运算速度**: Cpython, numba, mpi4py, petsc4py, PyCUDA<br>\n",
    "**虚拟机**: VirtualBoox,VMware<br>\n",
    "**虚拟环境**: Anaconda,Virtualenv,Enthought<br>\n",
    "**容器**: Docker<br>\n",
    "conda安装总会出现连接超时的问题\n",
    "\n",
    "#### ***References***\n",
    "[Geo-python](https://geo-python-site.readthedocs.io/en/latest/)<br>\n",
    "[Style Guide for Python Code](https://www.python.org/dev/peps/pep-0008/)<br>\n",
    "[The Zen of Python](https://www.python.org/dev/peps/pep-0020/)<br>\n",
    "[Jupyter Notebook 使用技巧](https://blog.csdn.net/deephub/article/details/108689139)<br>\n",
    "\n"
   ]
  },
  {
   "cell_type": "code",
   "execution_count": 1,
   "id": "2ca7a6e5-b688-4d87-ada6-cb796ed22e3a",
   "metadata": {},
   "outputs": [
    {
     "data": {
      "image/png": "[encoded data removed]",
      "text/plain": [
       "<Figure size 432x288 with 1 Axes>"
      ]
     },
     "metadata": {
      "needs_background": "light"
     },
     "output_type": "display_data"
    }
   ],
   "source": [
    "import matplotlib.pyplot as plt\n",
    "plt.style.use('classic')\n",
    "import numpy as np\n",
    "\n",
    "%matplotlib inline\n",
    "x = np.random.randn(1000)\n",
    "plt.hist(x);\n"
   ]
  },
  {
   "cell_type": "markdown",
   "id": "983887da-4787-4132-b210-e9d27f838988",
   "metadata": {},
   "source": [
    "### ***Jupyter***\n",
    "**快捷键**：\n",
    "A 会在活跃单元之上插入一个新的单元，B 会在活跃单元之下插入一个新单元。\n",
    "\n",
    "连续按两次 D，可以删除一个单元。\n",
    "\n",
    "撤销被删除的单元，按 Z。\n",
    "\n",
    "Ctrl + S 保存进度。\n",
    "\n",
    "Ctrl + Enter 会运行单元块。\n",
    "\n",
    "Alt + Enter 不止会运行你的单元块，还会在下面添加一个新单元。\n",
    "\n",
    "Ctrl + / 会#\n",
    "\n",
    "要查看键盘快捷键完整列表，进入「Help > Keyboard Shortcuts」。你一定要经常看这些快捷键，因为常会添加新的。\n",
    "\n",
    "**Extension**: toc\n",
    "\n",
    "\n",
    "#### **魔法符号－[Magics](https://supergis.gitbooks.io/git_notebook/content/doc/jupyter_magics.html)**\n",
    "常用的: !ls  %%!  %matplotlib inline   %timeit np.linalg.eigvals(np.random.rand(100,100))\n"
   ]
  },
  {
   "cell_type": "code",
   "execution_count": 4,
   "id": "86111f01-a82d-4522-ab04-4f9e2f4dce3d",
   "metadata": {},
   "outputs": [
    {
     "data": {
      "application/vnd.jupyter.widget-view+json": {
       "model_id": "06ac29228144412f916154afafb14155",
       "version_major": 2,
       "version_minor": 0
      },
      "text/plain": [
       "interactive(children=(IntSlider(value=100, description='x', max=300, min=-100), Output()), _dom_classes=('widg…"
      ]
     },
     "metadata": {},
     "output_type": "display_data"
    },
    {
     "data": {
      "text/plain": [
       "<function __main__.f(x)>"
      ]
     },
     "execution_count": 4,
     "metadata": {},
     "output_type": "execute_result"
    }
   ],
   "source": [
    "# ipywidgets 小部件\n",
    "%matplotlib inline\n",
    "import numpy as np\n",
    "import pandas as pd\n",
    "import matplotlib.pyplot as plt\n",
    "\n",
    "from ipywidgets import widgets\n",
    "\n",
    "def f(x):\n",
    "    print(x)\n",
    "    y = np.arange(x)\n",
    "    plt.plot(y,y**2,'*')\n",
    "widgets.interact(f,x=100)\n"
   ]
  },
  {
   "cell_type": "code",
   "execution_count": null,
   "id": "e0468724-7f19-4304-8835-eafc82add8e6",
   "metadata": {},
   "outputs": [],
   "source": []
  }
 ],
 "metadata": {
  "kernelspec": {
   "display_name": "Python 3",
   "language": "python",
   "name": "python3"
  },
  "language_info": {
   "codemirror_mode": {
    "name": "ipython",
    "version": 3
   },
   "file_extension": ".py",
   "mimetype": "text/x-python",
   "name": "python",
   "nbconvert_exporter": "python",
   "pygments_lexer": "ipython3",
   "version": "3.8.8"
  }
 },
 "nbformat": 4,
 "nbformat_minor": 5
}
