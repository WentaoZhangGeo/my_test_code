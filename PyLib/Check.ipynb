{
 "cells": [
  {
   "cell_type": "markdown",
   "id": "5ef0cce0-982f-427a-9fdc-a6c1ab31f169",
   "metadata": {},
   "source": [
    "对比python 和 matlab的结果差异"
   ]
  },
  {
   "cell_type": "code",
   "execution_count": 12,
   "id": "26a3c456-3c4c-4b74-8b32-a309d73e262c",
   "metadata": {},
   "outputs": [
    {
     "data": {
      "text/plain": [
       "['prfirst',\n",
       " 'etas1',\n",
       " 'etan1',\n",
       " 'xnum',\n",
       " 'ynum',\n",
       " 'xstp',\n",
       " 'ystp',\n",
       " 'RX1',\n",
       " 'RY1',\n",
       " 'RC1']"
      ]
     },
     "execution_count": 12,
     "metadata": {},
     "output_type": "execute_result"
    }
   ],
   "source": [
    "import numpy as np\n",
    "npzfile = np.load('PYout.npz')\n",
    "npzfile.files"
   ]
  },
  {
   "cell_type": "code",
   "execution_count": 13,
   "id": "344ca436-d857-445c-a8ea-645d8d6fdff5",
   "metadata": {},
   "outputs": [
    {
     "data": {
      "text/plain": [
       "dict_keys(['__header__', '__version__', '__globals__', 'META', 'MI', 'MRHO', 'MX', 'MY', 'RC1', 'RX1', 'RY1', 'bbottom', 'bleft', 'bright', 'btop', 'dx', 'dy', 'etan0', 'etan1', 'etas0', 'etas1', 'g', 'i', 'j', 'markmax', 'mxnum', 'mxstep', 'mynum', 'mystep', 'ntimestep', 'pr1', 'prfirst', 'rho0', 'rho1', 'stepmax', 'timemax', 'timesum', 'typ0', 'typ1', 'vx1', 'vy1', 'wtetan', 'wtetas', 'wtnodes', 'xm', 'xmx', 'xn', 'xnum', 'xsize', 'xstp', 'ym', 'ymy', 'yn', 'ynum', 'ysize', 'ystp'])"
      ]
     },
     "execution_count": 13,
     "metadata": {},
     "output_type": "execute_result"
    }
   ],
   "source": [
    "from scipy.io import loadmat\n",
    "matfile = loadmat('/home/ictja/ownCloud/Stoke/CH20matlabCode/matfile.mat')\n",
    "# print(matfile)\n",
    "matfile.keys()"
   ]
  },
  {
   "cell_type": "code",
   "execution_count": 16,
   "id": "9eef0d52-dd42-40ba-a454-74f7e1e22347",
   "metadata": {},
   "outputs": [
    {
     "name": "stdout",
     "output_type": "stream",
     "text": [
      "prfirst\n",
      "() (1, 1)\n",
      "0.0 0.0\n",
      "etas1\n",
      "(51, 51) (51, 51)\n",
      "0.0 0.0\n",
      "etan1\n",
      "(50, 50) (50, 50)\n",
      "0.0 0.0\n",
      "xnum\n",
      "() (1, 1)\n",
      "0.0 0.0\n",
      "ynum\n",
      "() (1, 1)\n",
      "0.0 0.0\n",
      "xstp\n",
      "() (1, 1)\n",
      "0.0 0.0\n",
      "ystp\n",
      "() (1, 1)\n",
      "0.0 0.0\n",
      "RX1\n",
      "(52, 51) (52, 51)\n",
      "0.0 0.0\n",
      "RY1\n",
      "(51, 52) (51, 52)\n",
      "0.0 0.0\n",
      "RC1\n",
      "(50, 50) (50, 50)\n",
      "0.0 0.0\n"
     ]
    }
   ],
   "source": [
    "for i in npzfile.files:\n",
    "    data_npz = npzfile[i]\n",
    "    data_mat = matfile[i]\n",
    "    data_difference = data_npz - data_mat\n",
    "    print(i)\n",
    "    print(data_npz.shape,data_mat.shape)\n",
    "    print(np.max(data_difference)*1e8,np.min(data_difference)*1e8)"
   ]
  },
  {
   "cell_type": "code",
   "execution_count": null,
   "id": "c27b1d04-cf2d-4f5f-8c58-5343f77d44f6",
   "metadata": {},
   "outputs": [],
   "source": []
  }
 ],
 "metadata": {
  "kernelspec": {
   "display_name": "Python 3",
   "language": "python",
   "name": "python3"
  },
  "language_info": {
   "codemirror_mode": {
    "name": "ipython",
    "version": 3
   },
   "file_extension": ".py",
   "mimetype": "text/x-python",
   "name": "python",
   "nbconvert_exporter": "python",
   "pygments_lexer": "ipython3",
   "version": "3.8.10"
  }
 },
 "nbformat": 4,
 "nbformat_minor": 5
}
