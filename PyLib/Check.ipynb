{
 "cells": [
  {
   "cell_type": "markdown",
   "id": "5ef0cce0-982f-427a-9fdc-a6c1ab31f169",
   "metadata": {},
   "source": [
    "对比python 和 matlab的结果差异"
   ]
  },
  {
   "cell_type": "code",
   "execution_count": 60,
   "id": "26a3c456-3c4c-4b74-8b32-a309d73e262c",
   "metadata": {},
   "outputs": [
    {
     "data": {
      "text/plain": [
       "['prfirst',\n",
       " 'etas1',\n",
       " 'etan1',\n",
       " 'xnum',\n",
       " 'ynum',\n",
       " 'xstp',\n",
       " 'ystp',\n",
       " 'RX1',\n",
       " 'RY1',\n",
       " 'RC1',\n",
       " 'bleft',\n",
       " 'bright',\n",
       " 'btop',\n",
       " 'bbottom']"
      ]
     },
     "execution_count": 60,
     "metadata": {},
     "output_type": "execute_result"
    }
   ],
   "source": [
    "import numpy as np\n",
    "npzfile = np.load('PYout.npz')\n",
    "npzfile.files"
   ]
  },
  {
   "cell_type": "code",
   "execution_count": 63,
   "id": "344ca436-d857-445c-a8ea-645d8d6fdff5",
   "metadata": {},
   "outputs": [],
   "source": [
    "from scipy.io import loadmat\n",
    "matfile = loadmat('/home/ictja/ownCloud/Stoke/CH20matlabCode/matfile.mat')\n",
    "# print(matfile)\n",
    "# matfile.keys()"
   ]
  },
  {
   "cell_type": "code",
   "execution_count": 64,
   "id": "9eef0d52-dd42-40ba-a454-74f7e1e22347",
   "metadata": {},
   "outputs": [
    {
     "name": "stdout",
     "output_type": "stream",
     "text": [
      "0.0 0.0\n",
      "0.0 0.0\n",
      "0.0 0.0\n",
      "0.0 0.0\n",
      "0.0 0.0\n",
      "0.0 0.0\n",
      "0.0 0.0\n",
      "0.0 0.0\n",
      "0.0 0.0\n",
      "0.0 0.0\n",
      "0.0 0.0\n",
      "0.0 0.0\n",
      "0.0 0.0\n",
      "0.0 0.0\n"
     ]
    }
   ],
   "source": [
    "for i in npzfile.files:\n",
    "    data_npz = npzfile[i]\n",
    "    data_mat = matfile[i]\n",
    "    data_difference = data_npz - data_mat\n",
    "#     print(i)\n",
    "#     print(data_npz.shape,data_mat.shape)\n",
    "    print(np.max(data_difference)*1e8,np.min(data_difference)*1e8)"
   ]
  },
  {
   "cell_type": "code",
   "execution_count": 72,
   "id": "c27b1d04-cf2d-4f5f-8c58-5343f77d44f6",
   "metadata": {},
   "outputs": [
    {
     "data": {
      "text/plain": [
       "dict_keys(['__header__', '__version__', '__globals__', 'L', 'R', 'S'])"
      ]
     },
     "execution_count": 72,
     "metadata": {},
     "output_type": "execute_result"
    }
   ],
   "source": [
    "import numpy as np\n",
    "from scipy.io import loadmat\n",
    "npzfile = loadmat('PY_LRS.mat')\n",
    "npzfile.keys()"
   ]
  },
  {
   "cell_type": "code",
   "execution_count": 74,
   "id": "55420bec-1728-454e-95b3-5f818dd2244f",
   "metadata": {},
   "outputs": [
    {
     "data": {
      "text/plain": [
       "dict_keys(['__header__', '__version__', '__globals__', 'L', 'R', 'S'])"
      ]
     },
     "execution_count": 74,
     "metadata": {},
     "output_type": "execute_result"
    }
   ],
   "source": [
    "from scipy.io import loadmat\n",
    "matfile = loadmat('/home/ictja/ownCloud/Stoke/CH20matlabCode/matfile_LRS.mat')\n",
    "# print(matfile)\n",
    "matfile.keys()"
   ]
  },
  {
   "cell_type": "code",
   "execution_count": 78,
   "id": "11431f90-e1e0-45dd-a724-b49487876d2c",
   "metadata": {},
   "outputs": [
    {
     "name": "stdout",
     "output_type": "stream",
     "text": [
      "S\n",
      "(7500, 1) (7500, 1)\n",
      "5.548192133457875e-13 -8.948483336461855e-13\n"
     ]
    }
   ],
   "source": [
    "for i in ('S'):\n",
    "    print(i)\n",
    "    data_npz = npzfile[i].T\n",
    "    data_mat = matfile[i]\n",
    "    data_difference = data_npz - data_mat\n",
    "    print(data_npz.shape,data_mat.shape)\n",
    "    print(np.max(data_difference),np.min(data_difference))"
   ]
  },
  {
   "cell_type": "code",
   "execution_count": 79,
   "id": "4bc26bb5-1769-4fb5-a42b-2c67bddc1430",
   "metadata": {},
   "outputs": [
    {
     "name": "stdout",
     "output_type": "stream",
     "text": [
      "R\n",
      "(7500, 1) (7500, 1)\n",
      "0.0 0.0\n"
     ]
    }
   ],
   "source": [
    "for i in ('R'):\n",
    "    print(i)\n",
    "    data_npz = npzfile[i]\n",
    "    data_mat = matfile[i]\n",
    "    data_difference = data_npz - data_mat\n",
    "    print(data_npz.shape,data_mat.shape)\n",
    "    print(np.max(data_difference)*1e8,np.min(data_difference)*1e8)"
   ]
  },
  {
   "cell_type": "code",
   "execution_count": 80,
   "id": "45269736-30e8-4701-931e-43202b76a744",
   "metadata": {},
   "outputs": [
    {
     "name": "stdout",
     "output_type": "stream",
     "text": [
      "L\n",
      "(7500, 7500) (7500, 7500)\n",
      "0.0 0.0\n"
     ]
    }
   ],
   "source": [
    "for i in ('L'):\n",
    "    print(i)\n",
    "    data_npz = npzfile[i]\n",
    "    data_mat = matfile[i]\n",
    "    data_difference = data_npz - data_mat\n",
    "    print(data_npz.shape,data_mat.shape)\n",
    "    print(np.max(data_difference)*1e8,np.min(data_difference)*1e8)"
   ]
  }
 ],
 "metadata": {
  "kernelspec": {
   "display_name": "Python 3",
   "language": "python",
   "name": "python3"
  },
  "language_info": {
   "codemirror_mode": {
    "name": "ipython",
    "version": 3
   },
   "file_extension": ".py",
   "mimetype": "text/x-python",
   "name": "python",
   "nbconvert_exporter": "python",
   "pygments_lexer": "ipython3",
   "version": "3.8.10"
  }
 },
 "nbformat": 4,
 "nbformat_minor": 5
}
