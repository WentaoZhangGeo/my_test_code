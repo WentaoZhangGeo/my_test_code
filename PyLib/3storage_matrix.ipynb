{
 "cells": [
  {
   "cell_type": "markdown",
   "id": "eb4e8d83-706d-4f52-a9c3-79f60f66c2f0",
   "metadata": {
    "tags": []
   },
   "source": [
    "# 存储大型矩阵\n",
    "求解大型矩阵的结果以便于后续的后处理，这里对比scipy和h5py的存储效率，包括时间和文件大小\n",
    "\n",
    "实验结果如下\n",
    "\n",
    "|                  |      | 随机矩阵 | (10000, 10000) |     | 稀疏矩阵 | (10000, 10000) |\n",
    "|:----------------:|:----:|:--------:|:--------------:| --- |:--------:|:--------------:|\n",
    "|      库函数      | 选项 |  耗时/s  |  文件大小/MB   |     |  耗时/s  |  文件大小/MB   |\n",
    "|     np.save      |      |   0.648    |      763       |     |  0.175   |     228 K      |\n",
    "| scipy.io.savemat | 默认 |   2.39   |      763       |     |  0.143   |     160 K      |\n",
    "|                  | 压缩 |    63    |      720       |     |  0.140   |      76 K      |\n",
    "|       h5py       | 默认 |   1.26   |      763       |     |   1.33   |      763       |\n",
    "|                  | gzip |   55.1   |      720       |     |   7.7    |      1.4       |\n",
    "|                  | lzf  |   8.02   |      764       |     |   1.98   |      9.3       |\n",
    "|                  | szip |    19    |      698       |     |   5.9    |       11       |"
   ]
  },
  {
   "cell_type": "markdown",
   "id": "29be401c-1c79-43ee-adf1-e2447cccd117",
   "metadata": {
    "tags": []
   },
   "source": [
    "结论:**numpy最好，h5py次好**\n",
    "\n",
    "1. 对于随机矩阵，两者文件基本相同，但h5py效率更好\n",
    "2. 对于稀疏矩阵，scipy.io.savemat效率更好而且文件更小\n",
    "3. 因此h5py更适合用于密集矩阵，而scipy比较适合稀疏矩阵。**但综合考虑来看numpy最好，h5py次好（密集矩阵更常见）**\n",
    "\n",
    "## Exp. 1 大型随机矩阵"
   ]
  },
  {
   "cell_type": "code",
   "execution_count": 1,
   "id": "6517f97e-bff7-43e4-b406-8fefa2347ce5",
   "metadata": {},
   "outputs": [
    {
     "name": "stdout",
     "output_type": "stream",
     "text": [
      "随机矩阵 A: 2 (10000, 10000) float64\n"
     ]
    }
   ],
   "source": [
    "# 建立大型随机矩阵\n",
    "import numpy as np\n",
    "import os\n",
    "from scipy.io import loadmat\n",
    "A = np.random.rand(10000, 10000)\n",
    "print('随机矩阵 A:', A.ndim, A.shape, A.dtype)"
   ]
  },
  {
   "cell_type": "code",
   "execution_count": 2,
   "id": "117a97fe-a3bb-496f-9a63-392412aa346d",
   "metadata": {},
   "outputs": [],
   "source": [
    "from scipy.io import savemat\n",
    "import h5py"
   ]
  },
  {
   "cell_type": "markdown",
   "id": "cbc29faf-617d-403a-9a4e-a91ea614a03b",
   "metadata": {},
   "source": [
    "### a. numpy方法"
   ]
  },
  {
   "cell_type": "code",
   "execution_count": 3,
   "id": "ca54ac53-87d3-418f-84a7-b6462d043014",
   "metadata": {},
   "outputs": [
    {
     "name": "stdout",
     "output_type": "stream",
     "text": [
      "CPU times: user 0 ns, sys: 650 ms, total: 650 ms\n",
      "Wall time: 648 ms\n",
      "763M\tnpfile.npy\n",
      "CPU times: user 1.31 s, sys: 836 ms, total: 2.15 s\n",
      "Wall time: 2.48 s\n",
      "763M\tnpfile.npz\n"
     ]
    },
    {
     "data": {
      "text/plain": [
       "0"
      ]
     },
     "execution_count": 3,
     "metadata": {},
     "output_type": "execute_result"
    }
   ],
   "source": [
    "%time np.save('npfile',A)\n",
    "os.system('du -sh npfile.npy')\n",
    "%time np.savez('npfile',A)\n",
    "os.system('du -sh npfile.npz')"
   ]
  },
  {
   "cell_type": "markdown",
   "id": "2d2449aa-2084-4655-949d-9db51a8b5d63",
   "metadata": {
    "tags": []
   },
   "source": [
    "### b. scipy.io.savemat方法\n",
    "通过控制结果发现压缩之后时间增加但文件变小选项，这里我们对比了压缩与不压缩的区别，通过测试发现：压缩之后时间增加但文件变小"
   ]
  },
  {
   "cell_type": "code",
   "execution_count": 4,
   "id": "aa5bb54d-9994-473a-a09b-4a8a6f2ded81",
   "metadata": {},
   "outputs": [
    {
     "name": "stdout",
     "output_type": "stream",
     "text": [
      "1）scipy.io.savemat默认选项：\n",
      "CPU times: user 949 ms, sys: 1.17 s, total: 2.12 s\n",
      "Wall time: 2.39 s\n",
      "763M\tmatfile.mat\n",
      "\n",
      "2）scipy.io.savemat压缩选项：\n",
      "CPU times: user 1min 2s, sys: 1.85 s, total: 1min 4s\n",
      "Wall time: 1min 5s\n",
      "720M\tmatfile_com.mat\n"
     ]
    },
    {
     "data": {
      "text/plain": [
       "0"
      ]
     },
     "execution_count": 4,
     "metadata": {},
     "output_type": "execute_result"
    }
   ],
   "source": [
    "# 随机矩阵\n",
    "print('1）scipy.io.savemat默认选项：')\n",
    "%time savemat('matfile.mat', {'elem':A})\n",
    "os.system('du -sh matfile.mat')\n",
    "print('\\n2）scipy.io.savemat压缩选项：')\n",
    "%time savemat('matfile_com.mat', {'elem':A}, do_compression=True)\n",
    "os.system('du -sh matfile_com.mat')"
   ]
  },
  {
   "cell_type": "markdown",
   "id": "19e82e52-c6cb-4b45-ae76-85fa9180acdb",
   "metadata": {},
   "source": [
    "### c. h5py 方法\n",
    "同样我们对比了压缩与不压缩的区别，通过测试发现："
   ]
  },
  {
   "cell_type": "code",
   "execution_count": 5,
   "id": "d8b10c29-2900-44da-84b2-0641adfe53b5",
   "metadata": {},
   "outputs": [
    {
     "name": "stdout",
     "output_type": "stream",
     "text": [
      "1）h5py默认选项：\n",
      "CPU times: user 1.02 ms, sys: 1.12 s, total: 1.12 s\n",
      "Wall time: 1.37 s\n",
      "763M\th5file.h5\n",
      "\n",
      "2）h5py压缩选项：\n",
      "CPU times: user 55.3 s, sys: 764 ms, total: 56.1 s\n",
      "Wall time: 56.2 s\n",
      "720M\th5file_com_gzip.h5\n",
      "CPU times: user 7.17 s, sys: 756 ms, total: 7.93 s\n",
      "Wall time: 8.27 s\n",
      "764M\th5file_com_lzf.h5\n",
      "CPU times: user 17.8 s, sys: 688 ms, total: 18.5 s\n",
      "Wall time: 18.9 s\n",
      "698M\th5file_com_szip.h5\n"
     ]
    },
    {
     "data": {
      "text/plain": [
       "0"
      ]
     },
     "execution_count": 5,
     "metadata": {},
     "output_type": "execute_result"
    }
   ],
   "source": [
    "# 默认格式\n",
    "print('1）h5py默认选项：')\n",
    "%time with h5py.File('h5file.h5', 'w') as hf:  hf.create_dataset('elem', data=A)\n",
    "os.system('du -sh h5file.h5')\n",
    "\n",
    "print('\\n2）h5py压缩选项：')\n",
    "# 压缩选项 'gzip'\n",
    "%time with h5py.File('h5file_com_gzip.h5', 'w') as hf:    hf.create_dataset('elem', data=A, compression='gzip')\n",
    "os.system('du -sh h5file_com_gzip.h5')\n",
    "# 压缩选项 'lzf'\n",
    "%time with h5py.File('h5file_com_lzf.h5', 'w') as hf:    hf.create_dataset('elem', data=A, compression='lzf')\n",
    "os.system('du -sh h5file_com_lzf.h5')\n",
    "# 压缩选项 'szip'\n",
    "%time with h5py.File('h5file_com_szip.h5', 'w') as hf:    hf.create_dataset('elem', data=A, compression='szip')\n",
    "os.system('du -sh h5file_com_szip.h5')"
   ]
  },
  {
   "cell_type": "code",
   "execution_count": null,
   "id": "ddf1d2dd-acb2-4877-b344-63d91d172488",
   "metadata": {},
   "outputs": [],
   "source": []
  },
  {
   "cell_type": "markdown",
   "id": "4b16b02a-e380-48c3-b833-bf99ee2c563c",
   "metadata": {},
   "source": [
    "## Exp. 2 大型稀疏矩阵"
   ]
  },
  {
   "cell_type": "code",
   "execution_count": 6,
   "id": "2ec132ce-3cea-4dd5-b70c-e2f0d32883c8",
   "metadata": {},
   "outputs": [
    {
     "name": "stdout",
     "output_type": "stream",
     "text": [
      "稀疏矩阵 L: (10000, 10000) float64\n"
     ]
    }
   ],
   "source": [
    "# 建立大型稀疏矩阵\n",
    "from scipy.sparse import lil_matrix\n",
    "L=lil_matrix((10000,10000))\n",
    "L[100:200,100:200]=np.random.rand(100, 100)\n",
    "print('稀疏矩阵 L:', L.shape, L.dtype)"
   ]
  },
  {
   "cell_type": "markdown",
   "id": "3e1c00d4-334d-4442-a801-3c363073bfbb",
   "metadata": {},
   "source": [
    "### a. numpy方法"
   ]
  },
  {
   "cell_type": "code",
   "execution_count": 7,
   "id": "906fe49f-ec53-4df3-ae72-8bea62e86693",
   "metadata": {},
   "outputs": [
    {
     "name": "stdout",
     "output_type": "stream",
     "text": [
      "CPU times: user 1.4 ms, sys: 160 ms, total: 161 ms\n",
      "Wall time: 162 ms\n",
      "228K\tnpfile.npy\n",
      "CPU times: user 3.33 ms, sys: 152 ms, total: 155 ms\n",
      "Wall time: 155 ms\n",
      "228K\tnpfile.npz\n"
     ]
    },
    {
     "data": {
      "text/plain": [
       "0"
      ]
     },
     "execution_count": 7,
     "metadata": {},
     "output_type": "execute_result"
    }
   ],
   "source": [
    "%time np.save('npfile',L)\n",
    "os.system('du -sh npfile.npy')\n",
    "\n",
    "%time np.savez('npfile',L)\n",
    "os.system('du -sh npfile.npz')"
   ]
  },
  {
   "cell_type": "markdown",
   "id": "04e3eedc-67f4-42bf-8cd2-603ac32a86bf",
   "metadata": {},
   "source": [
    "### b. scipy.io.savemat方法\n",
    "通过控制do_compression选项，这里我们对比了压缩与不压缩的区别，通过测试发现："
   ]
  },
  {
   "cell_type": "code",
   "execution_count": 8,
   "id": "c0113922-06b1-43be-bfc0-3c2d79e2db57",
   "metadata": {},
   "outputs": [
    {
     "name": "stdout",
     "output_type": "stream",
     "text": [
      "1）scipy.io.savemat默认选项：\n",
      "CPU times: user 3.36 ms, sys: 152 ms, total: 156 ms\n",
      "Wall time: 153 ms\n",
      "160K\tmatfile.mat\n",
      "\n",
      "2）scipy.io.savemat压缩选项：\n",
      "CPU times: user 9.02 ms, sys: 136 ms, total: 145 ms\n",
      "Wall time: 145 ms\n",
      "76K\tmatfile_com.mat\n"
     ]
    },
    {
     "data": {
      "text/plain": [
       "0"
      ]
     },
     "execution_count": 8,
     "metadata": {},
     "output_type": "execute_result"
    }
   ],
   "source": [
    "print('1）scipy.io.savemat默认选项：')\n",
    "%time savemat('matfile.mat', {'elem':L})\n",
    "os.system('du -sh matfile.mat')\n",
    "print('\\n2）scipy.io.savemat压缩选项：')\n",
    "%time savemat('matfile_com.mat', {'elem':L}, do_compression=True)\n",
    "os.system('du -sh matfile_com.mat')"
   ]
  },
  {
   "cell_type": "markdown",
   "id": "1b76546e-ceb0-412c-aae3-1d0bcc9ee5dd",
   "metadata": {
    "tags": []
   },
   "source": [
    "### c. h5py 方法\n",
    "同样我们对比了压缩与不压缩的区别，但是注意需要把稀疏矩阵转化为密集矩阵，通过测试发现："
   ]
  },
  {
   "cell_type": "code",
   "execution_count": 9,
   "id": "eea6fff9-a4bf-4ae3-aaa7-6e8545a88e91",
   "metadata": {},
   "outputs": [
    {
     "name": "stdout",
     "output_type": "stream",
     "text": [
      "1）h5py默认选项：\n",
      "CPU times: user 12.2 ms, sys: 1.08 s, total: 1.09 s\n",
      "Wall time: 1.36 s\n",
      "763M\th5file.h5\n",
      "\n",
      "2）h5py压缩选项：\n",
      "CPU times: user 7.29 s, sys: 344 ms, total: 7.63 s\n",
      "Wall time: 7.68 s\n",
      "1,4M\th5file_com_gzip.h5\n",
      "CPU times: user 1.6 s, sys: 328 ms, total: 1.93 s\n",
      "Wall time: 1.94 s\n",
      "9,3M\th5file_com_lzf.h5\n",
      "CPU times: user 5.5 s, sys: 336 ms, total: 5.84 s\n",
      "Wall time: 5.92 s\n",
      "11M\th5file_com_szip.h5\n"
     ]
    },
    {
     "data": {
      "text/plain": [
       "0"
      ]
     },
     "execution_count": 9,
     "metadata": {},
     "output_type": "execute_result"
    }
   ],
   "source": [
    "# 默认格式\n",
    "print('1）h5py默认选项：')\n",
    "%time with h5py.File('h5file.h5', 'w') as hf:  hf.create_dataset('elem', data=L.todense())\n",
    "os.system('du -sh h5file.h5')\n",
    "\n",
    "print('\\n2）h5py压缩选项：')\n",
    "# 压缩选项 'gzip'\n",
    "%time with h5py.File('h5file_com_gzip.h5', 'w') as hf:    hf.create_dataset('elem', data=L.todense(), compression='gzip')\n",
    "os.system('du -sh h5file_com_gzip.h5')\n",
    "# 压缩选项 'lzf'\n",
    "%time with h5py.File('h5file_com_lzf.h5', 'w') as hf:    hf.create_dataset('elem', data=L.todense(), compression='lzf')\n",
    "os.system('du -sh h5file_com_lzf.h5')\n",
    "# 压缩选项 'szip'\n",
    "%time with h5py.File('h5file_com_szip.h5', 'w') as hf:    hf.create_dataset('elem', data=L.todense(), compression='szip')\n",
    "os.system('du -sh h5file_com_szip.h5')"
   ]
  },
  {
   "cell_type": "code",
   "execution_count": null,
   "id": "98cc274d-9703-476b-bc5e-6407a047bf45",
   "metadata": {},
   "outputs": [],
   "source": []
  }
 ],
 "metadata": {
  "kernelspec": {
   "display_name": "Python 3 (ipykernel)",
   "language": "python",
   "name": "python3"
  },
  "language_info": {
   "codemirror_mode": {
    "name": "ipython",
    "version": 3
   },
   "file_extension": ".py",
   "mimetype": "text/x-python",
   "name": "python",
   "nbconvert_exporter": "python",
   "pygments_lexer": "ipython3",
   "version": "3.8.12"
  }
 },
 "nbformat": 4,
 "nbformat_minor": 5
}
