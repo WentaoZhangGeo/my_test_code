{
 "cells": [
  {
   "cell_type": "markdown",
   "id": "9faced5a-f94f-46ae-9edd-7d6d62343549",
   "metadata": {},
   "source": [
    "# ***Matlab Vs Python***\n",
    "Solve matrix\n",
    "\n",
    "S=L\\R;"
   ]
  },
  {
   "cell_type": "code",
   "execution_count": 1,
   "id": "2ca7a6e5-b688-4d87-ada6-cb796ed22e3a",
   "metadata": {},
   "outputs": [
    {
     "name": "stdout",
     "output_type": "stream",
     "text": [
      "439 ms ± 6.37 ms per loop (mean ± std. dev. of 7 runs, 1 loop each)\n"
     ]
    }
   ],
   "source": [
    "from scipy.io import loadmat\n",
    "from scipy.sparse.linalg import spsolve\n",
    "dataFile = 'TestData/scipy_solve.mat'\n",
    "data = loadmat(dataFile)\n",
    "L = data['L'];R = data['R'];S = data['S']\n",
    "\n",
    "%timeit X = spsolve(L, R)"
   ]
  },
  {
   "cell_type": "markdown",
   "id": "983887da-4787-4132-b210-e9d27f838988",
   "metadata": {},
   "source": [
    "**Matlab 9.4.0.813654 (R2018a):**\n",
    "\n",
    "![](TestData/scipy_solve.png)\n",
    "\n",
    "结论：求解大型稀疏矩阵的时候scipy比matlab更慢"
   ]
  },
  {
   "cell_type": "markdown",
   "id": "9978a4eb-f83a-443c-8c1a-f7e848973b01",
   "metadata": {},
   "source": []
  }
 ],
 "metadata": {
  "kernelspec": {
   "display_name": "Python 3",
   "language": "python",
   "name": "python3"
  },
  "language_info": {
   "codemirror_mode": {
    "name": "ipython",
    "version": 3
   },
   "file_extension": ".py",
   "mimetype": "text/x-python",
   "name": "python",
   "nbconvert_exporter": "python",
   "pygments_lexer": "ipython3",
   "version": "3.8.10"
  }
 },
 "nbformat": 4,
 "nbformat_minor": 5
}
